{
  "nbformat": 4,
  "nbformat_minor": 0,
  "metadata": {
    "kernelspec": {
      "display_name": "Python 3",
      "language": "python",
      "name": "python3"
    },
    "language_info": {
      "codemirror_mode": {
        "name": "ipython",
        "version": 3
      },
      "file_extension": ".py",
      "mimetype": "text/x-python",
      "name": "python",
      "nbconvert_exporter": "python",
      "pygments_lexer": "ipython3",
      "version": "3.7.1"
    },
    "colab": {
      "provenance": [],
      "include_colab_link": true
    }
  },
  "cells": [
    {
      "cell_type": "markdown",
      "metadata": {
        "id": "view-in-github",
        "colab_type": "text"
      },
      "source": [
        "<a href=\"https://colab.research.google.com/github/ibrahimtastekin/flypad_analysis/blob/main/read_capacitance_data.ipynb\" target=\"_parent\"><img src=\"https://colab.research.google.com/assets/colab-badge.svg\" alt=\"Open In Colab\"/></a>"
      ]
    },
    {
      "cell_type": "markdown",
      "source": [
        "# Setup"
      ],
      "metadata": {
        "id": "Ri-57ybUsxwV"
      }
    },
    {
      "cell_type": "code",
      "source": [
        "pip install ipympl # for interactive plotting"
      ],
      "metadata": {
        "id": "W7Jw0NRyqr9d"
      },
      "execution_count": null,
      "outputs": []
    },
    {
      "cell_type": "code",
      "source": [
        "from google.colab import output\n",
        "output.enable_custom_widget_manager() # activate third party widgets"
      ],
      "metadata": {
        "id": "cdm4PKPor038"
      },
      "execution_count": 5,
      "outputs": []
    },
    {
      "cell_type": "code",
      "source": [
        "from google.colab import drive # mount your google drive if needed\n",
        "drive.mount('/content/drive')"
      ],
      "metadata": {
        "id": "6dI4wNrnrUZs"
      },
      "execution_count": null,
      "outputs": []
    },
    {
      "cell_type": "code",
      "source": [
        "import matplotlib.pyplot as plt\n",
        "import pandas as pd\n",
        "import numpy as np\n",
        "%matplotlib widget"
      ],
      "metadata": {
        "id": "JpKfPIfbtA1b"
      },
      "execution_count": null,
      "outputs": []
    },
    {
      "cell_type": "markdown",
      "source": [
        "#reading the data\n",
        "\n",
        "\n",
        "\n"
      ],
      "metadata": {
        "id": "wYK9d_rAsfik"
      }
    },
    {
      "cell_type": "code",
      "metadata": {
        "id": "dy582RE7-IbT"
      },
      "source": [
        "# Path to the capacitance data\n",
        "file_path = '/content/CapacitanceData_C01_01_12_C02_13_24_C03_25_36_C04_37_48_C05_49_642019-01-07T14_49_24.7056640+00_00'  \n",
        "\n",
        "\n",
        "#Define channels \n",
        "channel_1 = 'yeast'\n",
        "channel_2 = 'sucrose'\n",
        "\n",
        "# Create column names for the dataframe. No need to change\n",
        "column_names = []\n",
        "for i in range(64):\n",
        "    arena = i/2\n",
        "    \n",
        "    if (i % 2) == 0:\n",
        "        arena = arena + 1\n",
        "        arena = str(int(arena))\n",
        "        column_names.append(channel_1  + '_' + arena) \n",
        "    else:\n",
        "        arena = arena + 0.5\n",
        "        arena = str(int(arena))\n",
        "        column_names.append(channel_2  + '_' + arena) \n",
        "\n",
        "    \n",
        "data = np.fromfile(file_path, dtype='ushort') # read binary capacitance data\n",
        "\n",
        "data_shaped = np.reshape(data,(round(data.shape[0]/64),64)) #reshape the data according to the channels. In total 64 channels\n",
        "\n",
        "df = pd.DataFrame(data_shaped, columns = column_names) #write the data into a datafame\n",
        "\n",
        "df.columns"
      ],
      "execution_count": null,
      "outputs": []
    },
    {
      "cell_type": "markdown",
      "source": [
        "# interactive plotting"
      ],
      "metadata": {
        "id": "KmQv-8pnqQal"
      }
    },
    {
      "cell_type": "code",
      "metadata": {
        "id": "IdXbCzQz-IbY"
      },
      "source": [
        "channel_to_plot = input('Enter the channel to be plotted')\n",
        "\n",
        "\n",
        "%matplotlib widget\n",
        "\n",
        "ax = plt.figure(figsize = (7,3),dpi = 150)\n",
        "plt.plot(df[channel_to_plot])\n",
        "\n"
      ],
      "execution_count": null,
      "outputs": []
    }
  ]
}